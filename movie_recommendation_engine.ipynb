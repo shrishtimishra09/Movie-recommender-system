{
 "cells": [
  {
   "cell_type": "code",
   "execution_count": 1,
   "id": "0c55e0a4-a873-4b71-9925-ecca75584006",
   "metadata": {},
   "outputs": [],
   "source": [
    "\n",
    "import pandas as pd\n",
    "import numpy as np\n",
    "import matplotlib.pyplot as plt"
   ]
  },
  {
   "cell_type": "code",
   "execution_count": 2,
   "id": "dd373204-5f2f-4693-97c0-71ae6c9aab25",
   "metadata": {},
   "outputs": [],
   "source": [
    "movies = pd.read_csv('moviesss.csv')"
   ]
  },
  {
   "cell_type": "code",
   "execution_count": 3,
   "id": "bfa9bf4c-8be7-448d-969b-33928253aa08",
   "metadata": {},
   "outputs": [
    {
     "data": {
      "text/html": [
       "<div>\n",
       "<style scoped>\n",
       "    .dataframe tbody tr th:only-of-type {\n",
       "        vertical-align: middle;\n",
       "    }\n",
       "\n",
       "    .dataframe tbody tr th {\n",
       "        vertical-align: top;\n",
       "    }\n",
       "\n",
       "    .dataframe thead th {\n",
       "        text-align: right;\n",
       "    }\n",
       "</style>\n",
       "<table border=\"1\" class=\"dataframe\">\n",
       "  <thead>\n",
       "    <tr style=\"text-align: right;\">\n",
       "      <th></th>\n",
       "      <th>Unnamed: 0</th>\n",
       "      <th>movie_id</th>\n",
       "      <th>movie_name</th>\n",
       "      <th>year</th>\n",
       "      <th>genre</th>\n",
       "      <th>Unnamed: 5</th>\n",
       "      <th>director</th>\n",
       "      <th>cast</th>\n",
       "    </tr>\n",
       "  </thead>\n",
       "  <tbody>\n",
       "    <tr>\n",
       "      <th>0</th>\n",
       "      <td>0</td>\n",
       "      <td>tt15354916</td>\n",
       "      <td>Jawan</td>\n",
       "      <td>2023</td>\n",
       "      <td>Action, Thriller</td>\n",
       "      <td>NaN</td>\n",
       "      <td>Atlee</td>\n",
       "      <td>Shah Rukh Khan, Nayanthara, Vijay Sethupathi, ...</td>\n",
       "    </tr>\n",
       "    <tr>\n",
       "      <th>1</th>\n",
       "      <td>1</td>\n",
       "      <td>tt15748830</td>\n",
       "      <td>Jaane Jaan</td>\n",
       "      <td>2023</td>\n",
       "      <td>Crime, Drama, Mystery</td>\n",
       "      <td>NaN</td>\n",
       "      <td>Sujoy Ghosh</td>\n",
       "      <td>Kareena Kapoor, Jaideep Ahlawat, Vijay Varma, ...</td>\n",
       "    </tr>\n",
       "    <tr>\n",
       "      <th>2</th>\n",
       "      <td>2</td>\n",
       "      <td>tt11663228</td>\n",
       "      <td>Jailer</td>\n",
       "      <td>2023</td>\n",
       "      <td>Action, Comedy, Crime</td>\n",
       "      <td>NaN</td>\n",
       "      <td>Nelson Dilipkumar</td>\n",
       "      <td>Rajinikanth, Mohanlal, Shivarajkumar, Jackie S...</td>\n",
       "    </tr>\n",
       "    <tr>\n",
       "      <th>3</th>\n",
       "      <td>3</td>\n",
       "      <td>tt14993250</td>\n",
       "      <td>Rocky Aur Rani Kii Prem Kahaani</td>\n",
       "      <td>2023</td>\n",
       "      <td>Comedy, Drama, Family</td>\n",
       "      <td>NaN</td>\n",
       "      <td>Karan Johar</td>\n",
       "      <td>Ranveer Singh, Alia Bhatt, Dharmendra, Shabana...</td>\n",
       "    </tr>\n",
       "    <tr>\n",
       "      <th>4</th>\n",
       "      <td>4</td>\n",
       "      <td>tt15732324</td>\n",
       "      <td>OMG 2</td>\n",
       "      <td>2023</td>\n",
       "      <td>Comedy, Drama</td>\n",
       "      <td>NaN</td>\n",
       "      <td>Amit Rai</td>\n",
       "      <td>Pankaj Tripathi, Akshay Kumar, Yami Gautam, Pa...</td>\n",
       "    </tr>\n",
       "  </tbody>\n",
       "</table>\n",
       "</div>"
      ],
      "text/plain": [
       "   Unnamed: 0    movie_id                       movie_name  year  \\\n",
       "0           0  tt15354916                            Jawan  2023   \n",
       "1           1  tt15748830                       Jaane Jaan  2023   \n",
       "2           2  tt11663228                           Jailer  2023   \n",
       "3           3  tt14993250  Rocky Aur Rani Kii Prem Kahaani  2023   \n",
       "4           4  tt15732324                            OMG 2  2023   \n",
       "\n",
       "                   genre  Unnamed: 5           director  \\\n",
       "0       Action, Thriller         NaN              Atlee   \n",
       "1  Crime, Drama, Mystery         NaN        Sujoy Ghosh   \n",
       "2  Action, Comedy, Crime         NaN  Nelson Dilipkumar   \n",
       "3  Comedy, Drama, Family         NaN        Karan Johar   \n",
       "4          Comedy, Drama         NaN           Amit Rai   \n",
       "\n",
       "                                                cast  \n",
       "0  Shah Rukh Khan, Nayanthara, Vijay Sethupathi, ...  \n",
       "1  Kareena Kapoor, Jaideep Ahlawat, Vijay Varma, ...  \n",
       "2  Rajinikanth, Mohanlal, Shivarajkumar, Jackie S...  \n",
       "3  Ranveer Singh, Alia Bhatt, Dharmendra, Shabana...  \n",
       "4  Pankaj Tripathi, Akshay Kumar, Yami Gautam, Pa...  "
      ]
     },
     "execution_count": 3,
     "metadata": {},
     "output_type": "execute_result"
    }
   ],
   "source": [
    "movies.head(5)"
   ]
  },
  {
   "cell_type": "code",
   "execution_count": 4,
   "id": "2625ecd2-d58a-4cba-9e6c-60a41328e1d0",
   "metadata": {},
   "outputs": [
    {
     "data": {
      "text/plain": [
       "(2199, 8)"
      ]
     },
     "execution_count": 4,
     "metadata": {},
     "output_type": "execute_result"
    }
   ],
   "source": [
    "\n",
    "movies.shape"
   ]
  },
  {
   "cell_type": "code",
   "execution_count": 5,
   "id": "3b87f22c-68b8-475f-be7e-f0b5142f3e42",
   "metadata": {},
   "outputs": [],
   "source": [
    "# create a function to create a table showing the numbers of missing values for each feature\n",
    "def create_missing_df(dataframe):\n",
    "  \n",
    "  missing_index = dataframe.columns.tolist() \n",
    "  missing = dataframe.isnull().sum().tolist()\n",
    "  missing_df = pd.DataFrame({'Missing':missing}, index=missing_index)\n",
    "\n",
    "  return missing_df"
   ]
  },
  {
   "cell_type": "code",
   "execution_count": 6,
   "id": "3d4a19e2-b397-4dec-88b9-36109e4af610",
   "metadata": {},
   "outputs": [
    {
     "data": {
      "text/html": [
       "<div>\n",
       "<style scoped>\n",
       "    .dataframe tbody tr th:only-of-type {\n",
       "        vertical-align: middle;\n",
       "    }\n",
       "\n",
       "    .dataframe tbody tr th {\n",
       "        vertical-align: top;\n",
       "    }\n",
       "\n",
       "    .dataframe thead th {\n",
       "        text-align: right;\n",
       "    }\n",
       "</style>\n",
       "<table border=\"1\" class=\"dataframe\">\n",
       "  <thead>\n",
       "    <tr style=\"text-align: right;\">\n",
       "      <th></th>\n",
       "      <th>Missing</th>\n",
       "    </tr>\n",
       "  </thead>\n",
       "  <tbody>\n",
       "    <tr>\n",
       "      <th>Unnamed: 0</th>\n",
       "      <td>0</td>\n",
       "    </tr>\n",
       "    <tr>\n",
       "      <th>movie_id</th>\n",
       "      <td>0</td>\n",
       "    </tr>\n",
       "    <tr>\n",
       "      <th>movie_name</th>\n",
       "      <td>0</td>\n",
       "    </tr>\n",
       "    <tr>\n",
       "      <th>year</th>\n",
       "      <td>65</td>\n",
       "    </tr>\n",
       "    <tr>\n",
       "      <th>genre</th>\n",
       "      <td>0</td>\n",
       "    </tr>\n",
       "    <tr>\n",
       "      <th>Unnamed: 5</th>\n",
       "      <td>2199</td>\n",
       "    </tr>\n",
       "    <tr>\n",
       "      <th>director</th>\n",
       "      <td>0</td>\n",
       "    </tr>\n",
       "    <tr>\n",
       "      <th>cast</th>\n",
       "      <td>0</td>\n",
       "    </tr>\n",
       "  </tbody>\n",
       "</table>\n",
       "</div>"
      ],
      "text/plain": [
       "            Missing\n",
       "Unnamed: 0        0\n",
       "movie_id          0\n",
       "movie_name        0\n",
       "year             65\n",
       "genre             0\n",
       "Unnamed: 5     2199\n",
       "director          0\n",
       "cast              0"
      ]
     },
     "execution_count": 6,
     "metadata": {},
     "output_type": "execute_result"
    }
   ],
   "source": [
    "create_missing_df(movies)"
   ]
  },
  {
   "cell_type": "code",
   "execution_count": 7,
   "id": "c890c0e6-d90a-487f-8555-6109351b9b02",
   "metadata": {},
   "outputs": [],
   "source": [
    "# the function to extract titles\n",
    "def extract_title(title):\n",
    "\n",
    "  year = title[len(title)-5:len(title)-1]\n",
    "\n",
    "  # some movies do not have the info about year in the column title. So, we should take care of the case as well.\n",
    "  if year.isnumeric():\n",
    "    title_no_year = title[:len(title)-7]\n",
    "    return title_no_year\n",
    "\n",
    "  else:\n",
    "    return title"
   ]
  },
  {
   "cell_type": "code",
   "execution_count": 12,
   "id": "38c74e3e-d040-498d-b0c6-6ab3edebcebc",
   "metadata": {},
   "outputs": [],
   "source": [
    "# the function to extract years\n",
    "def extract_year(title):\n",
    "\n",
    "  year = title[len(title)-5:len(title)-1]\n",
    "\n",
    "  # some movies do not have the info about year in the column title. So, we should take care of the case as well.\n",
    "  if year.isnumeric():\n",
    "    return int(year)\n",
    "\n",
    "  else:\n",
    "    return np.nan\n",
    "     "
   ]
  },
  {
   "cell_type": "code",
   "execution_count": 16,
   "id": "4fe68f6b-4eef-42ea-be5e-d5206b645071",
   "metadata": {},
   "outputs": [
    {
     "name": "stdout",
     "output_type": "stream",
     "text": [
      "The number of movies which do not have info about genres: 0\n"
     ]
    }
   ],
   "source": [
    "r,c = movies[movies['genre']=='(no genre listed)'].shape \n",
    "print('The number of movies which do not have info about genres:',r)"
   ]
  },
  {
   "cell_type": "code",
   "execution_count": 17,
   "id": "2462ddc4-e31d-4a2c-8388-0a9fc850b6ba",
   "metadata": {},
   "outputs": [],
   "source": [
    "movies = movies[~(movies['genre']=='(no genre listed)')].reset_index(drop=True)"
   ]
  },
  {
   "cell_type": "code",
   "execution_count": 20,
   "id": "748f2644-ce6f-49e2-b0bc-637d45b7fb12",
   "metadata": {},
   "outputs": [
    {
     "data": {
      "text/html": [
       "<div>\n",
       "<style scoped>\n",
       "    .dataframe tbody tr th:only-of-type {\n",
       "        vertical-align: middle;\n",
       "    }\n",
       "\n",
       "    .dataframe tbody tr th {\n",
       "        vertical-align: top;\n",
       "    }\n",
       "\n",
       "    .dataframe thead th {\n",
       "        text-align: right;\n",
       "    }\n",
       "</style>\n",
       "<table border=\"1\" class=\"dataframe\">\n",
       "  <thead>\n",
       "    <tr style=\"text-align: right;\">\n",
       "      <th></th>\n",
       "      <th>movie_name</th>\n",
       "      <th>genre</th>\n",
       "    </tr>\n",
       "  </thead>\n",
       "  <tbody>\n",
       "    <tr>\n",
       "      <th>0</th>\n",
       "      <td>Jawan</td>\n",
       "      <td>Action, Thriller</td>\n",
       "    </tr>\n",
       "    <tr>\n",
       "      <th>1</th>\n",
       "      <td>Jaane Jaan</td>\n",
       "      <td>Crime, Drama, Mystery</td>\n",
       "    </tr>\n",
       "    <tr>\n",
       "      <th>2</th>\n",
       "      <td>Jailer</td>\n",
       "      <td>Action, Comedy, Crime</td>\n",
       "    </tr>\n",
       "    <tr>\n",
       "      <th>3</th>\n",
       "      <td>Rocky Aur Rani Kii Prem Kahaani</td>\n",
       "      <td>Comedy, Drama, Family</td>\n",
       "    </tr>\n",
       "    <tr>\n",
       "      <th>4</th>\n",
       "      <td>OMG 2</td>\n",
       "      <td>Comedy, Drama</td>\n",
       "    </tr>\n",
       "  </tbody>\n",
       "</table>\n",
       "</div>"
      ],
      "text/plain": [
       "                        movie_name                  genre\n",
       "0                            Jawan       Action, Thriller\n",
       "1                       Jaane Jaan  Crime, Drama, Mystery\n",
       "2                           Jailer  Action, Comedy, Crime\n",
       "3  Rocky Aur Rani Kii Prem Kahaani  Comedy, Drama, Family\n",
       "4                            OMG 2          Comedy, Drama"
      ]
     },
     "execution_count": 20,
     "metadata": {},
     "output_type": "execute_result"
    }
   ],
   "source": [
    "movies[['movie_name','genre']].head(5)"
   ]
  },
  {
   "cell_type": "code",
   "execution_count": 22,
   "id": "6dec837e-a65f-4701-a237-f08b4ff016ae",
   "metadata": {},
   "outputs": [],
   "source": [
    "# remove '|' in the genres column\n",
    "movies['genre'] = movies['genre'].str.replace('|',' ')"
   ]
  },
  {
   "cell_type": "code",
   "execution_count": 23,
   "id": "45935c9b-c627-4a86-ac82-7651ef0b5b62",
   "metadata": {},
   "outputs": [],
   "source": [
    "# count the number of occurences for each genre in the data set\n",
    "counts = dict()\n",
    "\n",
    "for i in movies.index:\n",
    "  for g in movies.loc[i,'genre'].split(' '):\n",
    "    if g not in counts:\n",
    "      counts[g] = 1\n",
    "    else:\n",
    "      counts[g] = counts[g] + 1\n",
    "     "
   ]
  },
  {
   "cell_type": "code",
   "execution_count": 24,
   "id": "04a2be2f-7599-4608-8b76-d95bc4f10dcf",
   "metadata": {},
   "outputs": [
    {
     "data": {
      "text/plain": [
       "Text(0, 0.5, 'Counts')"
      ]
     },
     "execution_count": 24,
     "metadata": {},
     "output_type": "execute_result"
    },
    {
     "data": {
      "image/png": "[encoded data removed]",
      "text/plain": [
       "<Figure size 1200x600 with 1 Axes>"
      ]
     },
     "metadata": {},
     "output_type": "display_data"
    }
   ],
   "source": [
    "\n",
    "plt.figure(figsize=(12,6))\n",
    "plt.bar(list(counts.keys()), counts.values(), color='g')\n",
    "plt.xticks(rotation=45)\n",
    "plt.xlabel('Genre')\n",
    "plt.ylabel('Counts')"
   ]
  },
  {
   "cell_type": "code",
   "execution_count": 25,
   "id": "d41c4b29-d937-4827-8d80-209f5f394b11",
   "metadata": {},
   "outputs": [],
   "source": [
    "\n",
    "from sklearn.feature_extraction.text import TfidfVectorizer"
   ]
  },
  {
   "cell_type": "code",
   "execution_count": 26,
   "id": "a32b002b-e51a-446d-b022-fcfe86cacc81",
   "metadata": {},
   "outputs": [],
   "source": [
    "\n",
    "movies['genre'] = movies['genre'].str.replace('Sci-Fi','SciFi')\n",
    "movies['genre'] = movies['genre'].str.replace('Film-Noir','Noir')"
   ]
  },
  {
   "cell_type": "code",
   "execution_count": 27,
   "id": "3940f096-9c8e-4556-abd5-be3c9bba4c6e",
   "metadata": {},
   "outputs": [],
   "source": [
    "tfidf_vector = TfidfVectorizer(stop_words='english') # create an object for TfidfVectorizer\n",
    "tfidf_matrix = tfidf_vector.fit_transform(movies['genre']) # apply the object to the genres column"
   ]
  },
  {
   "cell_type": "code",
   "execution_count": 31,
   "id": "c7fba2db-4eaf-4cf4-bc84-7c8e719391f9",
   "metadata": {},
   "outputs": [
    {
     "name": "stdout",
     "output_type": "stream",
     "text": [
      "[(0, 'action'), (1, 'adventure'), (2, 'animation'), (3, 'biography'), (4, 'comedy'), (5, 'crime'), (6, 'drama'), (7, 'family'), (8, 'fantasy'), (9, 'history'), (10, 'horror'), (11, 'music'), (12, 'musical'), (13, 'mystery'), (14, 'romance'), (15, 'scifi'), (16, 'sport'), (17, 'thriller'), (18, 'war')]\n"
     ]
    }
   ],
   "source": [
    "print(list(enumerate(tfidf_vector.get_feature_names_out())))\n"
   ]
  },
  {
   "cell_type": "code",
   "execution_count": 32,
   "id": "4acec697-76d7-4cfe-ae05-d171684e4ef2",
   "metadata": {},
   "outputs": [
    {
     "name": "stdout",
     "output_type": "stream",
     "text": [
      "  (0, 17)\t0.8114835857284116\n",
      "  (0, 0)\t0.5843752134488249\n",
      "  (1, 13)\t0.7949660477750663\n",
      "  (1, 6)\t0.28724084470348255\n",
      "  (1, 5)\t0.5343422873205163\n",
      "  (2, 4)\t0.5619867486766731\n",
      "  (2, 5)\t0.6445963317885108\n",
      "  (2, 0)\t0.5183304576779354\n",
      "  (3, 7)\t0.8463033071775466\n",
      "  (3, 4)\t0.4534377107173237\n",
      "  (3, 6)\t0.2795799612986949\n",
      "  (4, 4)\t0.8512043822034329\n",
      "  (4, 6)\t0.524834354551674\n"
     ]
    }
   ],
   "source": [
    "\n",
    "print(tfidf_matrix[:5])"
   ]
  },
  {
   "cell_type": "code",
   "execution_count": 33,
   "id": "8a87089e-44c7-47b9-8756-30226d738f9d",
   "metadata": {},
   "outputs": [
    {
     "data": {
      "text/plain": [
       "(2199, 19)"
      ]
     },
     "execution_count": 33,
     "metadata": {},
     "output_type": "execute_result"
    }
   ],
   "source": [
    "tfidf_matrix.shape"
   ]
  },
  {
   "cell_type": "code",
   "execution_count": 38,
   "id": "d387d5fe-dbd5-4c45-8352-27340092cb69",
   "metadata": {},
   "outputs": [
    {
     "data": {
      "text/plain": [
       "matrix([[0.58437521, 0.        , 0.        , 0.        , 0.        ,\n",
       "         0.        , 0.        , 0.        , 0.        , 0.        ,\n",
       "         0.        , 0.        , 0.        , 0.        , 0.        ,\n",
       "         0.        , 0.        , 0.81148359, 0.        ]])"
      ]
     },
     "execution_count": 38,
     "metadata": {},
     "output_type": "execute_result"
    }
   ],
   "source": [
    "\n",
    "# the first row vector of tfidf_matrix \n",
    "tfidf_matrix.todense()[0]"
   ]
  },
  {
   "cell_type": "code",
   "execution_count": 35,
   "id": "581b1fc6-3d2c-4d74-8a2e-41198df9d0a2",
   "metadata": {},
   "outputs": [],
   "source": [
    "from sklearn.metrics.pairwise import linear_kernel"
   ]
  },
  {
   "cell_type": "code",
   "execution_count": 36,
   "id": "59a6fd13-f1cf-481b-8d74-36be8e8e1644",
   "metadata": {},
   "outputs": [
    {
     "name": "stdout",
     "output_type": "stream",
     "text": [
      "[[1.         0.         0.30289947 ... 0.         0.         0.36085961]\n",
      " [0.         1.         0.34443508 ... 0.         0.06109089 0.11857699]\n",
      " [0.30289947 0.34443508 1.         ... 0.         0.         0.69633943]\n",
      " ...\n",
      " [0.         0.         0.         ... 1.         0.         0.        ]\n",
      " [0.         0.06109089 0.         ... 0.         1.         0.08779798]\n",
      " [0.36085961 0.11857699 0.69633943 ... 0.         0.08779798 1.        ]]\n"
     ]
    }
   ],
   "source": [
    "\n",
    "sim_matrix = linear_kernel(tfidf_matrix,tfidf_matrix) # create the cosine similarity matrix\n",
    "print(sim_matrix)"
   ]
  },
  {
   "cell_type": "code",
   "execution_count": 37,
   "id": "551ab0a1-e02e-4ae3-91e2-e82edf972981",
   "metadata": {},
   "outputs": [],
   "source": [
    "\n",
    "# the function to convert from index to title_year\n",
    "def get_title_year_from_index(index):\n",
    "\n",
    "  return movies[movies.index == index]['title_year'].values[0]\n",
    "\n",
    "# the function to convert from title to index\n",
    "def get_index_from_title(title):\n",
    "\n",
    "  return movies[movies.title == title].index.values[0]"
   ]
  },
  {
   "cell_type": "code",
   "execution_count": 39,
   "id": "c77f4b20-02ca-4a4c-961a-d56559c1d8f1",
   "metadata": {},
   "outputs": [
    {
     "name": "stdout",
     "output_type": "stream",
     "text": [
      "Collecting fuzzywuzzy\n",
      "  Downloading fuzzywuzzy-0.18.0-py2.py3-none-any.whl.metadata (4.9 kB)\n",
      "Downloading fuzzywuzzy-0.18.0-py2.py3-none-any.whl (18 kB)\n",
      "Installing collected packages: fuzzywuzzy\n",
      "Successfully installed fuzzywuzzy-0.18.0\n"
     ]
    }
   ],
   "source": [
    "\n",
    "!pip install fuzzywuzzy"
   ]
  },
  {
   "cell_type": "code",
   "execution_count": 41,
   "id": "4e507865-0f08-4ef1-9bae-e7dbd97081fc",
   "metadata": {},
   "outputs": [],
   "source": [
    "from fuzzywuzzy import fuzz"
   ]
  },
  {
   "cell_type": "code",
   "execution_count": 42,
   "id": "89a353ea-70d9-4f34-80ba-03a976f99921",
   "metadata": {},
   "outputs": [],
   "source": [
    "# create a function to find the closest title\n",
    "def matching_score(a,b):\n",
    "\n",
    "  return fuzz.ratio(a,b)"
   ]
  },
  {
   "cell_type": "code",
   "execution_count": 67,
   "id": "5ec5a37e-3325-4bea-aa63-8a8ef4c5f399",
   "metadata": {},
   "outputs": [],
   "source": [
    "# a function to convert index to title\n",
    "def get_title_from_index(index):\n",
    "    return movies.iloc[index]['movie_name']\n",
    "\n",
    "\n"
   ]
  },
  {
   "cell_type": "code",
   "execution_count": 68,
   "id": "25593bbd-c44d-4097-8c3b-4216eddfcfc4",
   "metadata": {},
   "outputs": [],
   "source": [
    "def find_closest_title(title):\n",
    "    leven_scores = list(enumerate(movies['movie_name'].apply(matching_score, b=title)))  \n",
    "    sorted_leven_scores = sorted(leven_scores, key=lambda x: x[1], reverse=True)\n",
    "    closest_title = get_title_from_index(sorted_leven_scores[0][0])  # Ensure get_title_from_index uses 'movie_name'\n",
    "    distance_score = sorted_leven_scores[0][1]\n",
    "\n",
    "    return closest_title, distance_score\n"
   ]
  },
  {
   "cell_type": "code",
   "execution_count": 69,
   "id": "a9e0aca9-d680-44ed-a560-a22a4045881f",
   "metadata": {},
   "outputs": [],
   "source": [
    "def get_index_from_title(title):\n",
    "    return movies[movies.movie_name == title].index.values[0]\n",
    "\n",
    "def contents_based_recommender(movie_user_likes, how_many):\n",
    "    # Find the closest matching movie title\n",
    "    closest_title, distance_score = find_closest_title(movie_user_likes)\n",
    "\n",
    "    if distance_score == 100:\n",
    "        movie_index = get_index_from_title(closest_title)  # Get index of the movie\n",
    "        movie_list = list(enumerate(sim_matrix[int(movie_index)]))  # Get similarity scores\n",
    "        similar_movies = list(filter(lambda x: x[0] != int(movie_index), \n",
    "                                     sorted(movie_list, key=lambda x: x[1], reverse=True)))  # Remove the input movie itself\n",
    "\n",
    "        print(f\"Here's the list of movies similar to \\033[1m{closest_title}\\033[0m:\\n\")\n",
    "        \n",
    "        for i, s in similar_movies[:how_many]: \n",
    "            print(get_title_from_index(i))  # Fetch only the movie title\n",
    "\n",
    "    else:\n",
    "        print(f\"Did you mean \\033[1m{closest_title}\\033[0m?\\n\")\n",
    "\n",
    "        movie_index = get_index_from_title(closest_title)\n",
    "        movie_list = list(enumerate(sim_matrix[int(movie_index)]))\n",
    "        similar_movies = list(filter(lambda x: x[0] != int(movie_index), \n",
    "                                     sorted(movie_list, key=lambda x: x[1], reverse=True)))\n",
    "\n",
    "        print(f\"Here's the list of movies similar to \\033[1m{closest_title}\\033[0m:\\n\")\n",
    "\n",
    "        for i, s in similar_movies[:how_many]:\n",
    "            print(get_title_from_index(i))  # Fetch only the movie title\n"
   ]
  },
  {
   "cell_type": "code",
   "execution_count": null,
   "id": "852b8eee-c5e5-4e84-9f6c-dfe5b205b859",
   "metadata": {},
   "outputs": [],
   "source": []
  }
 ],
 "metadata": {
  "kernelspec": {
   "display_name": "Python 3 (ipykernel)",
   "language": "python",
   "name": "python3"
  },
  "language_info": {
   "codemirror_mode": {
    "name": "ipython",
    "version": 3
   },
   "file_extension": ".py",
   "mimetype": "text/x-python",
   "name": "python",
   "nbconvert_exporter": "python",
   "pygments_lexer": "ipython3",
   "version": "3.11.7"
  }
 },
 "nbformat": 4,
 "nbformat_minor": 5
}
